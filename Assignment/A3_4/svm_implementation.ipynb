{
 "cells": [
  {
   "cell_type": "code",
   "execution_count": 163,
   "metadata": {
    "collapsed": false
   },
   "outputs": [],
   "source": [
    "import numpy as np\n",
    "import os\n",
    "from nltk.tokenize import sent_tokenize,word_tokenize,WordPunctTokenizer,regexp_tokenize\n",
    "from nltk.corpus import stopwords,movie_reviews\n",
    "import collections\n",
    "from nltk.classify import NaiveBayesClassifier\n",
    "from nltk.classify.util import accuracy\n",
    "from nltk.classify.scikitlearn import SklearnClassifier\n",
    "from sklearn.svm import SVC\n",
    "from nltk.corpus import sentiwordnet"
   ]
  },
  {
   "cell_type": "code",
   "execution_count": 131,
   "metadata": {
    "collapsed": false
   },
   "outputs": [],
   "source": [
    "def bag_of_words(words):\n",
    "    return dict([(word, True) for word in words])\n",
    "\n",
    "def split_label_feats(lfeats, split=0.75):\n",
    "    cnt = 0\n",
    "    train_feats = []\n",
    "    test_feats = []\n",
    "    #print(len(lfeats.items()))\n",
    "    for label,feats in lfeats.items():\n",
    "        cutoff = int(len(feats) * split)\n",
    "        train_feats.extend([(feat, label) for feat in feats[:cutoff]])\n",
    "        test_feats.extend([(feat, label) for feat in feats[cutoff:]])\n",
    "    return train_feats, test_feats\n",
    "\n",
    "#     label = 'pos'\n",
    "#     cutoff = int(len(feats) * split)\n",
    "#     train_feats.extend([(feat, label) for feat in lfeats['pos'][:cutoff]])\n",
    "#     test_feats.extend([(feat, label) for feat in lfeats['pos'][cutoff:]])\n",
    "\n",
    "#     label = 'neg'\n",
    "#     train_feats.extend([(feat, label) for feat in lfeats['neg'][:cutoff]])\n",
    "#     test_feats.extend([(feat, label) for feat in lfeats['neg'][cutoff:]])\n",
    "#     return train_feats, test_feats\n",
    "\n",
    "    \n",
    "    "
   ]
  },
  {
   "cell_type": "markdown",
   "metadata": {},
   "source": [
    "# Training Classifier with local data"
   ]
  },
  {
   "cell_type": "code",
   "execution_count": 183,
   "metadata": {
    "collapsed": false,
    "scrolled": true
   },
   "outputs": [
    {
     "name": "stdout",
     "output_type": "stream",
     "text": [
      "1000\n",
      "1\n"
     ]
    }
   ],
   "source": [
    "# read negetive labeled files and tokenize\n",
    "\n",
    "fdir = 'data/imdb1/neg/'\n",
    "flist = os.listdir(fdir)\n",
    "\n",
    "label_feats = collections.defaultdict(list)\n",
    "neg_words = []\n",
    "for file in flist:\n",
    "    f = open(fdir+file)\n",
    "    ftxt = f.read()\n",
    "    words = regexp_tokenize(ftxt,'[\\w]+')\n",
    "    words = [w for w in words if w not in stopw]\n",
    "    pos_words += words\n",
    "    feats = bag_of_words(words)\n",
    "    label_feats['neg'].append(feats)\n",
    "\n",
    "print(len(label_feats['neg']))\n",
    "print(len(label_feats))"
   ]
  },
  {
   "cell_type": "code",
   "execution_count": 184,
   "metadata": {
    "collapsed": false
   },
   "outputs": [
    {
     "name": "stdout",
     "output_type": "stream",
     "text": [
      "1000\n",
      "1000\n",
      "2\n"
     ]
    }
   ],
   "source": [
    "# read positive labeled files and tokenize\n",
    "\n",
    "fdir = 'data/imdb1/pos/'\n",
    "flist = os.listdir(fdir)\n",
    "\n",
    "pos_words = []\n",
    "for file in flist:\n",
    "    f = open(fdir+file)\n",
    "    ftxt = f.read()\n",
    "    words = regexp_tokenize(ftxt,'[\\w]+')\n",
    "    words = [w for w in words if w not in stopw]\n",
    "    pos_words += words\n",
    "    feats = bag_of_words(words)\n",
    "    label_feats['pos'].append(feats)\n",
    "\n",
    "print(len(label_feats['neg']))\n",
    "print(len(label_feats['pos']))\n",
    "print(len(label_feats))"
   ]
  },
  {
   "cell_type": "code",
   "execution_count": 185,
   "metadata": {
    "collapsed": false,
    "scrolled": true
   },
   "outputs": [],
   "source": [
    "train_feats, test_feats = split_label_feats(label_feats, split=0.75)\n",
    "#train_feats.keys()\n",
    "#label_feats.keys()\n",
    "#label_feats['neg']\n",
    "#print(len(train_feats))\n",
    "#print(len(test_feats))"
   ]
  },
  {
   "cell_type": "code",
   "execution_count": 186,
   "metadata": {
    "collapsed": false
   },
   "outputs": [
    {
     "data": {
      "text/plain": [
       "0.71"
      ]
     },
     "execution_count": 186,
     "metadata": {},
     "output_type": "execute_result"
    }
   ],
   "source": [
    "# Naive Bayes Classifier\n",
    "nb_classifier = NaiveBayesClassifier.train(train_feats)\n",
    "#nb_classifier.labels()\n",
    "accuracy(nb_classifier,test_feats)"
   ]
  },
  {
   "cell_type": "code",
   "execution_count": 187,
   "metadata": {
    "collapsed": false
   },
   "outputs": [
    {
     "data": {
      "text/plain": [
       "0.608"
      ]
     },
     "execution_count": 187,
     "metadata": {},
     "output_type": "execute_result"
    }
   ],
   "source": [
    "# Support Vector Machine\n",
    "\n",
    "svm_classifier = SklearnClassifier(SVC()).train(train_feats)\n",
    "accuracy(svm_classifier,test_feats)"
   ]
  },
  {
   "cell_type": "markdown",
   "metadata": {},
   "source": [
    "# Training classifier with built-in corpus"
   ]
  },
  {
   "cell_type": "code",
   "execution_count": 188,
   "metadata": {
    "collapsed": true
   },
   "outputs": [],
   "source": [
    "pos_files = movie_reviews.fileids('pos')\n",
    "neg_files = movie_reviews.fileids('neg')"
   ]
  },
  {
   "cell_type": "code",
   "execution_count": 189,
   "metadata": {
    "collapsed": false
   },
   "outputs": [],
   "source": [
    "for file in pos_files:\n",
    "    words = movie_reviews.words(file)\n",
    "    words = [w for w in words if w not in stopw]\n",
    "    pos_words += words\n",
    "    feats = bag_of_words(words)\n",
    "    label_feats['pos'].append(feats)\n",
    "    \n",
    "for file in neg_files:\n",
    "    words = movie_reviews.words(file)\n",
    "    words = [w for w in words if w not in stopw]\n",
    "    neg_words += words\n",
    "    feats = bag_of_words(words)\n",
    "    label_feats['neg'].append(feats)"
   ]
  },
  {
   "cell_type": "code",
   "execution_count": 192,
   "metadata": {
    "collapsed": false
   },
   "outputs": [
    {
     "name": "stdout",
     "output_type": "stream",
     "text": [
      "0.957\n"
     ]
    }
   ],
   "source": [
    "train_feats, test_feats = split_label_feats(label_feats, split=0.75)\n",
    "nb_classifier = NaiveBayesClassifier.train(train_feats)\n",
    "print(accuracy(nb_classifier,test_feats))"
   ]
  },
  {
   "cell_type": "code",
   "execution_count": 194,
   "metadata": {
    "collapsed": false
   },
   "outputs": [
    {
     "name": "stdout",
     "output_type": "stream",
     "text": [
      "0.737\n"
     ]
    }
   ],
   "source": [
    "svm_classifier = SklearnClassifier(SVC()).train(train_feats)\n",
    "print(accuracy(svm_classifier,test_feats))"
   ]
  },
  {
   "cell_type": "code",
   "execution_count": null,
   "metadata": {
    "collapsed": true
   },
   "outputs": [],
   "source": []
  }
 ],
 "metadata": {
  "anaconda-cloud": {},
  "kernelspec": {
   "display_name": "Python [conda root]",
   "language": "python",
   "name": "conda-root-py"
  },
  "language_info": {
   "codemirror_mode": {
    "name": "ipython",
    "version": 3
   },
   "file_extension": ".py",
   "mimetype": "text/x-python",
   "name": "python",
   "nbconvert_exporter": "python",
   "pygments_lexer": "ipython3",
   "version": "3.5.2"
  }
 },
 "nbformat": 4,
 "nbformat_minor": 1
}
